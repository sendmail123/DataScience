{
  "nbformat": 4,
  "nbformat_minor": 0,
  "metadata": {
    "colab": {
      "name": "BlurringSmoothing.ipynb",
      "provenance": [],
      "authorship_tag": "ABX9TyNuJtu3UwILjgqFJQqLsvfP",
      "include_colab_link": true
    },
    "kernelspec": {
      "name": "python3",
      "display_name": "Python 3"
    },
    "accelerator": "GPU"
  },
  "cells": [
    {
      "cell_type": "markdown",
      "metadata": {
        "id": "view-in-github",
        "colab_type": "text"
      },
      "source": [
        "<a href=\"https://colab.research.google.com/github/sendmail123/DataScience/blob/master/BlurringSmoothing.ipynb\" target=\"_parent\"><img src=\"https://colab.research.google.com/assets/colab-badge.svg\" alt=\"Open In Colab\"/></a>"
      ]
    },
    {
      "cell_type": "code",
      "metadata": {
        "id": "1NWo0LXBvJ_Z",
        "colab_type": "code",
        "colab": {}
      },
      "source": [
        "import cv2\n",
        "import numpy as np\n",
        "import matplotlib.pyplot as plt\n",
        "%matplotlib inline"
      ],
      "execution_count": 0,
      "outputs": []
    },
    {
      "cell_type": "code",
      "metadata": {
        "id": "g6DxyUHMvjyr",
        "colab_type": "code",
        "colab": {}
      },
      "source": [
        "def load_img():\n",
        "  img = cv2.imread('bricks.jpg').astype(np.float32)/255\n",
        "  img = cv2.cvtColor(img, cv2.COLOR_BGR2RGB)\n",
        "  return img"
      ],
      "execution_count": 0,
      "outputs": []
    },
    {
      "cell_type": "code",
      "metadata": {
        "id": "Rp3NIcY3wbTr",
        "colab_type": "code",
        "colab": {
          "base_uri": "https://localhost:8080/",
          "height": 868
        },
        "outputId": "ce476bf0-07e1-47ac-a8de-8de2aadc7e55"
      },
      "source": [
        "load_img()"
      ],
      "execution_count": 5,
      "outputs": [
        {
          "output_type": "execute_result",
          "data": {
            "text/plain": [
              "array([[[0.78431374, 0.7882353 , 0.80784315],\n",
              "        [0.7529412 , 0.77254903, 0.79607844],\n",
              "        [0.7254902 , 0.7647059 , 0.8       ],\n",
              "        ...,\n",
              "        [0.7764706 , 0.76862746, 0.7882353 ],\n",
              "        [0.7764706 , 0.76862746, 0.7882353 ],\n",
              "        [0.7764706 , 0.76862746, 0.7882353 ]],\n",
              "\n",
              "       [[0.8784314 , 0.88235295, 0.9019608 ],\n",
              "        [0.7647059 , 0.78431374, 0.80784315],\n",
              "        [0.7019608 , 0.7529412 , 0.78431374],\n",
              "        ...,\n",
              "        [0.7764706 , 0.76862746, 0.7882353 ],\n",
              "        [0.7764706 , 0.76862746, 0.7882353 ],\n",
              "        [0.7764706 , 0.76862746, 0.7882353 ]],\n",
              "\n",
              "       [[0.85490197, 0.8666667 , 0.89411765],\n",
              "        [0.6509804 , 0.6784314 , 0.70980394],\n",
              "        [0.4862745 , 0.5372549 , 0.57254905],\n",
              "        ...,\n",
              "        [0.7764706 , 0.76862746, 0.7882353 ],\n",
              "        [0.7764706 , 0.76862746, 0.7882353 ],\n",
              "        [0.7764706 , 0.76862746, 0.7882353 ]],\n",
              "\n",
              "       ...,\n",
              "\n",
              "       [[0.8509804 , 0.83137256, 0.84705883],\n",
              "        [0.84705883, 0.827451  , 0.84313726],\n",
              "        [0.84313726, 0.8235294 , 0.8392157 ],\n",
              "        ...,\n",
              "        [0.80784315, 0.8117647 , 0.83137256],\n",
              "        [0.8039216 , 0.8156863 , 0.8352941 ],\n",
              "        [0.8156863 , 0.81960785, 0.8392157 ]],\n",
              "\n",
              "       [[0.8509804 , 0.83137256, 0.84705883],\n",
              "        [0.84705883, 0.827451  , 0.84313726],\n",
              "        [0.84313726, 0.8235294 , 0.8392157 ],\n",
              "        ...,\n",
              "        [0.7921569 , 0.8039216 , 0.8235294 ],\n",
              "        [0.7921569 , 0.8117647 , 0.827451  ],\n",
              "        [0.8039216 , 0.8156863 , 0.8352941 ]],\n",
              "\n",
              "       [[0.8509804 , 0.83137256, 0.84705883],\n",
              "        [0.8509804 , 0.83137256, 0.84705883],\n",
              "        [0.84313726, 0.8235294 , 0.8392157 ],\n",
              "        ...,\n",
              "        [0.79607844, 0.80784315, 0.827451  ],\n",
              "        [0.7921569 , 0.8117647 , 0.827451  ],\n",
              "        [0.8       , 0.81960785, 0.8352941 ]]], dtype=float32)"
            ]
          },
          "metadata": {
            "tags": []
          },
          "execution_count": 5
        }
      ]
    },
    {
      "cell_type": "code",
      "metadata": {
        "id": "-7kadKdWweQn",
        "colab_type": "code",
        "colab": {}
      },
      "source": [
        ""
      ],
      "execution_count": 0,
      "outputs": []
    }
  ]
}