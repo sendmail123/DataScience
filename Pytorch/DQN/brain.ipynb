{
  "nbformat": 4,
  "nbformat_minor": 0,
  "metadata": {
    "colab": {
      "name": "brain.ipynb",
      "provenance": [],
      "authorship_tag": "ABX9TyO2N8JrZviokXxDd/FdKEpl",
      "include_colab_link": true
    },
    "kernelspec": {
      "name": "python3",
      "display_name": "Python 3"
    },
    "accelerator": "GPU"
  },
  "cells": [
    {
      "cell_type": "markdown",
      "metadata": {
        "id": "view-in-github",
        "colab_type": "text"
      },
      "source": [
        "<a href=\"https://colab.research.google.com/github/sendmail123/DataScience/blob/master/Pytorch/DQN/brain.ipynb\" target=\"_parent\"><img src=\"https://colab.research.google.com/assets/colab-badge.svg\" alt=\"Open In Colab\"/></a>"
      ]
    },
    {
      "cell_type": "code",
      "metadata": {
        "id": "BQArtNqjhDP-",
        "colab_type": "code",
        "colab": {
          "base_uri": "https://localhost:8080/",
          "height": 34
        },
        "outputId": "7762f868-e88f-4fba-8342-ccba0f1074a0"
      },
      "source": [
        "#!/usr/bin/env python3\n",
        "# -*- coding: utf-8 -*-\n",
        "\"\"\"\n",
        "Created on Sat Mar 21 21:17:11 2020\n",
        "\n",
        "@author: vishalsingh\n",
        "\"\"\"\n",
        "\n",
        "from keras.layers import Input, Dense\n",
        "from keras.models import Model\n",
        "from keras.optimizers import Adam\n",
        "\n",
        "#BUILDING THE BRAIN\n",
        "\n",
        "class Brain(object):\n",
        "    \n",
        "    def __init__(self,learning_rate=0.001,number_actions=5):\n",
        "        self.learning_rate = learning_rate\n",
        "        states = Input(shape=(3,))\n",
        "        x = Dense(units=64, activation='sigmoid')(states)\n",
        "        y = Dense(units=32,activation='sigmoid')(x)\n",
        "        q_values = Dense(units=number_actions,activation='softmax')(y)\n",
        "        self.model = Model(inputs = states,outputs = q_values)\n",
        "        self.model.compile(loss='mse', optimizer= Adam(lr=learning_rate))\n",
        "        \n",
        "        \n",
        "        \n"
      ],
      "execution_count": 1,
      "outputs": [
        {
          "output_type": "stream",
          "text": [
            "Using TensorFlow backend.\n"
          ],
          "name": "stderr"
        }
      ]
    }
  ]
}