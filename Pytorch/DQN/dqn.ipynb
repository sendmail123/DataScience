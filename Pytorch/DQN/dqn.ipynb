{
  "nbformat": 4,
  "nbformat_minor": 0,
  "metadata": {
    "colab": {
      "name": "dqn.ipynb",
      "provenance": [],
      "authorship_tag": "ABX9TyNqRUYUMJJMn3xnY7CpkhdX",
      "include_colab_link": true
    },
    "kernelspec": {
      "name": "python3",
      "display_name": "Python 3"
    },
    "accelerator": "GPU"
  },
  "cells": [
    {
      "cell_type": "markdown",
      "metadata": {
        "id": "view-in-github",
        "colab_type": "text"
      },
      "source": [
        "<a href=\"https://colab.research.google.com/github/sendmail123/DataScience/blob/master/Pytorch/DQN/dqn.ipynb\" target=\"_parent\"><img src=\"https://colab.research.google.com/assets/colab-badge.svg\" alt=\"Open In Colab\"/></a>"
      ]
    },
    {
      "cell_type": "code",
      "metadata": {
        "id": "luy3JWenhd_v",
        "colab_type": "code",
        "colab": {}
      },
      "source": [
        "#!/usr/bin/env python3\n",
        "# -*- coding: utf-8 -*-\n",
        "\"\"\"\n",
        "Created on Sun Mar 22 11:53:24 2020\n",
        "\n",
        "@author: vishalsingh\n",
        "\"\"\"\n",
        "\n",
        "#IMPPLEMENTING DEEP Q LEARNING WITH EXPERIENCE REPLAY\n",
        "\n",
        "import numpy as np\n",
        "\n",
        "class DQN(object):\n",
        "    \n",
        "    #INITIALIZING ALL THE PARAMETRES AND VARIABLES OF DQN\n",
        "    \n",
        "    def __init__(self,max_memory=100,discount=0.9):\n",
        "        self.memory = list()\n",
        "        self.max_memory = max_memory\n",
        "        self.discount = discount\n",
        "        \n",
        "    #MAKING A METHOD THAT BUILDS EXPERIENCE REPLAY\n",
        "    \n",
        "    def remember(self, transition, game_over):\n",
        "        self.memory.append([transition,game_over])\n",
        "        if len(self.memory) > self.max_memory:\n",
        "            del self.memory[0]\n",
        "            \n",
        "    def get_batch(self,model, batch_size=10):\n",
        "        len_memory = len(self.memory)\n",
        "        num_inputs = self.memory[0][0][0].shape[1]\n",
        "        num_outputs = model.output_shape[-1]\n",
        "        inputs = np.zeros((min(len_memory,batch_size),num_inputs))\n",
        "        targets = np.zeros((min(len_memory,batch_size),num_outputs))\n",
        "        for i, idx in enumerate (np.random.randint(0,len_memory, size=min(len_memory,batch_size))):\n",
        "            current_state, action,reward, next_state = self.memory[idx][0]\n",
        "            game_over = self.memory[idx][0]\n",
        "            inputs[i] = current_state\n",
        "            targets[i] = model.predict(current_state)[0]\n",
        "            Q_sa = np.max(model.predict(current_state)[0])\n",
        "            if game_over:\n",
        "                targets[i,action] = reward\n",
        "            else:\n",
        "                 targets[i,action] = reward + self.discount * Q_sa\n",
        "                 \n",
        "        return inputs, targets\n",
        "        \n",
        "        "
      ],
      "execution_count": 0,
      "outputs": []
    }
  ]
}