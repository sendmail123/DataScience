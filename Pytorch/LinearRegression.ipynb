{
  "nbformat": 4,
  "nbformat_minor": 0,
  "metadata": {
    "colab": {
      "name": "LinearRegression.ipynb",
      "provenance": [],
      "collapsed_sections": [],
      "authorship_tag": "ABX9TyO5bKK6YwC/SDy39arvNQ8z",
      "include_colab_link": true
    },
    "kernelspec": {
      "name": "python3",
      "display_name": "Python 3"
    },
    "accelerator": "TPU"
  },
  "cells": [
    {
      "cell_type": "markdown",
      "metadata": {
        "id": "view-in-github",
        "colab_type": "text"
      },
      "source": [
        "<a href=\"https://colab.research.google.com/github/sendmail123/DataScience/blob/master/Pytorch/LinearRegression.ipynb\" target=\"_parent\"><img src=\"https://colab.research.google.com/assets/colab-badge.svg\" alt=\"Open In Colab\"/></a>"
      ]
    },
    {
      "cell_type": "code",
      "metadata": {
        "id": "iqhUS6VB3Y0g",
        "colab_type": "code",
        "colab": {
          "base_uri": "https://localhost:8080/",
          "height": 34
        },
        "outputId": "55f2fd28-c2b4-47d7-e67d-05c1dcd472eb"
      },
      "source": [
        "!pip3 install torch"
      ],
      "execution_count": 1,
      "outputs": [
        {
          "output_type": "stream",
          "text": [
            "Requirement already satisfied: torch in /usr/local/lib/python3.6/dist-packages (1.4.0)\n"
          ],
          "name": "stdout"
        }
      ]
    },
    {
      "cell_type": "code",
      "metadata": {
        "id": "z8cqp4fH4ldq",
        "colab_type": "code",
        "colab": {}
      },
      "source": [
        "import torch\n"
      ],
      "execution_count": 0,
      "outputs": []
    },
    {
      "cell_type": "code",
      "metadata": {
        "id": "AaH79Wnk4nV-",
        "colab_type": "code",
        "colab": {}
      },
      "source": [
        "w=torch.tensor(3.0,requires_grad=True)\n",
        "b = torch.tensor(1.0,requires_grad=True)\n",
        "\n",
        "\n"
      ],
      "execution_count": 0,
      "outputs": []
    },
    {
      "cell_type": "code",
      "metadata": {
        "id": "jS35IbFA5Cxb",
        "colab_type": "code",
        "colab": {}
      },
      "source": [
        "def forward(x):\n",
        "  y=w*x+b\n",
        "  return y"
      ],
      "execution_count": 0,
      "outputs": []
    },
    {
      "cell_type": "code",
      "metadata": {
        "id": "-env4UdL55Qq",
        "colab_type": "code",
        "colab": {
          "base_uri": "https://localhost:8080/",
          "height": 34
        },
        "outputId": "a5721819-666d-4822-bd85-8bbcc4759917"
      },
      "source": [
        "forward(2.0)"
      ],
      "execution_count": 5,
      "outputs": [
        {
          "output_type": "execute_result",
          "data": {
            "text/plain": [
              "tensor(7., grad_fn=<AddBackward0>)"
            ]
          },
          "metadata": {
            "tags": []
          },
          "execution_count": 5
        }
      ]
    },
    {
      "cell_type": "code",
      "metadata": {
        "id": "U_P-B5-i58W4",
        "colab_type": "code",
        "colab": {
          "base_uri": "https://localhost:8080/",
          "height": 51
        },
        "outputId": "1857be64-3afe-407d-a582-d78bcd1e3f09"
      },
      "source": [
        "x=torch.tensor([[2],[7]])\n",
        "forward(x)"
      ],
      "execution_count": 6,
      "outputs": [
        {
          "output_type": "execute_result",
          "data": {
            "text/plain": [
              "tensor([[ 7.],\n",
              "        [22.]], grad_fn=<AddBackward0>)"
            ]
          },
          "metadata": {
            "tags": []
          },
          "execution_count": 6
        }
      ]
    },
    {
      "cell_type": "code",
      "metadata": {
        "id": "X5WJtibM5_wg",
        "colab_type": "code",
        "colab": {}
      },
      "source": [
        "from torch.nn import Linear"
      ],
      "execution_count": 0,
      "outputs": []
    },
    {
      "cell_type": "code",
      "metadata": {
        "id": "mRr-avdJ8vgE",
        "colab_type": "code",
        "colab": {
          "base_uri": "https://localhost:8080/",
          "height": 34
        },
        "outputId": "ef2f4dd7-43c8-4697-c417-86db582c2e89"
      },
      "source": [
        "torch.manual_seed(1)"
      ],
      "execution_count": 8,
      "outputs": [
        {
          "output_type": "execute_result",
          "data": {
            "text/plain": [
              "<torch._C.Generator at 0x7fc7237a09d0>"
            ]
          },
          "metadata": {
            "tags": []
          },
          "execution_count": 8
        }
      ]
    },
    {
      "cell_type": "code",
      "metadata": {
        "id": "DpLFN4yP8xzq",
        "colab_type": "code",
        "colab": {
          "base_uri": "https://localhost:8080/",
          "height": 68
        },
        "outputId": "e5bf2928-3b10-48bc-e95d-f95ab97752e6"
      },
      "source": [
        "model = Linear(in_features=1,out_features=1)\n",
        "print(model.weight,model.bias)"
      ],
      "execution_count": 9,
      "outputs": [
        {
          "output_type": "stream",
          "text": [
            "Parameter containing:\n",
            "tensor([[0.5153]], requires_grad=True) Parameter containing:\n",
            "tensor([-0.4414], requires_grad=True)\n"
          ],
          "name": "stdout"
        }
      ]
    },
    {
      "cell_type": "code",
      "metadata": {
        "id": "NaZjWACp9BdT",
        "colab_type": "code",
        "colab": {
          "base_uri": "https://localhost:8080/",
          "height": 51
        },
        "outputId": "6c0a142d-6766-433a-8ae6-1137cfa5da0c"
      },
      "source": [
        "x=torch.tensor([[2.0],[3.3]])\n",
        "model(x)"
      ],
      "execution_count": 10,
      "outputs": [
        {
          "output_type": "execute_result",
          "data": {
            "text/plain": [
              "tensor([[0.5891],\n",
              "        [1.2590]], grad_fn=<AddmmBackward>)"
            ]
          },
          "metadata": {
            "tags": []
          },
          "execution_count": 10
        }
      ]
    },
    {
      "cell_type": "code",
      "metadata": {
        "id": "yaaVKqD7ABpA",
        "colab_type": "code",
        "colab": {}
      },
      "source": [
        "import torch.nn as nn\n",
        "import matplotlib.pyplot as plt\n",
        "import numpy as np\n"
      ],
      "execution_count": 0,
      "outputs": []
    },
    {
      "cell_type": "code",
      "metadata": {
        "id": "oVfIrcIXmEQI",
        "colab_type": "code",
        "colab": {
          "base_uri": "https://localhost:8080/",
          "height": 296
        },
        "outputId": "bdf13e17-27bb-4644-bf09-7faff910c863"
      },
      "source": [
        "x = torch.randn(100,1)*10\n",
        "y=x+torch.randn(100,1)*3\n",
        "plt.plot(x,y,'o')\n",
        "plt.xlabel('x')\n",
        "plt.ylabel('y')"
      ],
      "execution_count": 12,
      "outputs": [
        {
          "output_type": "execute_result",
          "data": {
            "text/plain": [
              "Text(0, 0.5, 'y')"
            ]
          },
          "metadata": {
            "tags": []
          },
          "execution_count": 12
        },
        {
          "output_type": "display_data",
          "data": {
            "image/png": "[encoded data removed]",
            "text/plain": [
              "<Figure size 432x288 with 1 Axes>"
            ]
          },
          "metadata": {
            "tags": []
          }
        }
      ]
    },
    {
      "cell_type": "code",
      "metadata": {
        "id": "z7iuTqmWGdXs",
        "colab_type": "code",
        "colab": {}
      },
      "source": [
        "class LR(nn.Module):\n",
        "  def __init__(self,input_size,output_size):\n",
        "    super().__init__()\n",
        "    self.linear=nn.Linear(input_size,output_size)\n",
        "\n",
        "  def forward(self,x):\n",
        "    pred = self.linear(x)\n",
        "    return pred\n"
      ],
      "execution_count": 0,
      "outputs": []
    },
    {
      "cell_type": "code",
      "metadata": {
        "id": "ojV0sCXnG1GD",
        "colab_type": "code",
        "colab": {
          "base_uri": "https://localhost:8080/",
          "height": 68
        },
        "outputId": "50c88dbe-2b3b-40d0-a9a4-ad3a18f63bfe"
      },
      "source": [
        "torch.manual_seed(1)\n",
        "model = LR(1,1)\n",
        "print(list(model.parameters()))"
      ],
      "execution_count": 14,
      "outputs": [
        {
          "output_type": "stream",
          "text": [
            "[Parameter containing:\n",
            "tensor([[0.5153]], requires_grad=True), Parameter containing:\n",
            "tensor([-0.4414], requires_grad=True)]\n"
          ],
          "name": "stdout"
        }
      ]
    },
    {
      "cell_type": "code",
      "metadata": {
        "id": "5wD4MGwlIMr0",
        "colab_type": "code",
        "colab": {}
      },
      "source": [
        "[w,b] = model.parameters()"
      ],
      "execution_count": 0,
      "outputs": []
    },
    {
      "cell_type": "code",
      "metadata": {
        "id": "0isBBz9Xm922",
        "colab_type": "code",
        "colab": {}
      },
      "source": [
        "def get_params():\n",
        "  return(w[0][0].item(),b[0].item())"
      ],
      "execution_count": 0,
      "outputs": []
    },
    {
      "cell_type": "code",
      "metadata": {
        "id": "PSA6EtYyn0e4",
        "colab_type": "code",
        "colab": {}
      },
      "source": [
        "def plot_fit(title):\n",
        "  plt.title(title)\n",
        "  w1,b1 = get_params()\n",
        "  x1=np.array([-30,30])\n",
        "  y1=w1*x1 + b1\n",
        "  plt.plot(x1,y1,'r')\n",
        "  plt.scatter(x,y)\n",
        "  plt.show()"
      ],
      "execution_count": 0,
      "outputs": []
    },
    {
      "cell_type": "code",
      "metadata": {
        "id": "uu_pQW1np3GX",
        "colab_type": "code",
        "colab": {
          "base_uri": "https://localhost:8080/",
          "height": 281
        },
        "outputId": "6b6f1973-ad6f-433a-dda1-769ee86922ce"
      },
      "source": [
        "plot_fit('Linear Fit Model')"
      ],
      "execution_count": 18,
      "outputs": [
        {
          "output_type": "display_data",
          "data": {
            "image/png": "[encoded data removed]",
            "text/plain": [
              "<Figure size 432x288 with 1 Axes>"
            ]
          },
          "metadata": {
            "tags": []
          }
        }
      ]
    },
    {
      "cell_type": "code",
      "metadata": {
        "id": "Sx-oJHbpp8VK",
        "colab_type": "code",
        "colab": {}
      },
      "source": [
        "criterion = nn.MSELoss()\n",
        "optimizer = torch.optim.SGD(model.parameters(),lr=0.01)\n",
        "epochs = 100\n"
      ],
      "execution_count": 0,
      "outputs": []
    },
    {
      "cell_type": "code",
      "metadata": {
        "id": "8WmAf9ab5xOy",
        "colab_type": "code",
        "colab": {
          "base_uri": "https://localhost:8080/",
          "height": 1000
        },
        "outputId": "cca89fe5-c01a-4b58-c57f-482327e85224"
      },
      "source": [
        "losses=[]\n",
        "for i in range(epochs):\n",
        "  y_pred = model.forward(x)\n",
        "  loss=criterion(y_pred,y)\n",
        "  print(\"epochs: \",i,\"loss: \", loss.item())\n",
        "  losses.append(loss)\n",
        "  optimizer.zero_grad()\n",
        "  loss.backward()  #Gradient Calculation\n",
        "  optimizer.step()\n",
        "\n",
        "\n",
        "\n"
      ],
      "execution_count": 20,
      "outputs": [
        {
          "output_type": "stream",
          "text": [
            "epochs:  0 loss:  36.448333740234375\n",
            "epochs:  1 loss:  43.94552230834961\n",
            "epochs:  2 loss:  53.461822509765625\n",
            "epochs:  3 loss:  65.5404281616211\n",
            "epochs:  4 loss:  80.8705062866211\n",
            "epochs:  5 loss:  100.32701110839844\n",
            "epochs:  6 loss:  125.0198745727539\n",
            "epochs:  7 loss:  156.35787963867188\n",
            "epochs:  8 loss:  196.1288604736328\n",
            "epochs:  9 loss:  246.60162353515625\n",
            "epochs:  10 loss:  310.6553955078125\n",
            "epochs:  11 loss:  391.9438781738281\n",
            "epochs:  12 loss:  495.1044006347656\n",
            "epochs:  13 loss:  626.0213623046875\n",
            "epochs:  14 loss:  792.162353515625\n",
            "epochs:  15 loss:  1003.0047607421875\n",
            "epochs:  16 loss:  1270.5738525390625\n",
            "epochs:  17 loss:  1610.131591796875\n",
            "epochs:  18 loss:  2041.0474853515625\n",
            "epochs:  19 loss:  2587.8994140625\n",
            "epochs:  20 loss:  3281.8857421875\n",
            "epochs:  21 loss:  4162.58251953125\n",
            "epochs:  22 loss:  5280.22705078125\n",
            "epochs:  23 loss:  6698.5712890625\n",
            "epochs:  24 loss:  8498.50390625\n",
            "epochs:  25 loss:  10782.72265625\n",
            "epochs:  26 loss:  13681.4970703125\n",
            "epochs:  27 loss:  17360.189453125\n",
            "epochs:  28 loss:  22028.625\n",
            "epochs:  29 loss:  27953.0390625\n",
            "epochs:  30 loss:  35471.42578125\n",
            "epochs:  31 loss:  45012.62109375\n",
            "epochs:  32 loss:  57120.85546875\n",
            "epochs:  33 loss:  72486.7578125\n",
            "epochs:  34 loss:  91986.7734375\n",
            "epochs:  35 loss:  116733.2109375\n",
            "epochs:  36 loss:  148137.625\n",
            "epochs:  37 loss:  187991.421875\n",
            "epochs:  38 loss:  238567.65625\n",
            "epochs:  39 loss:  302751.0625\n",
            "epochs:  40 loss:  384203.03125\n",
            "epochs:  41 loss:  487569.46875\n",
            "epochs:  42 loss:  618745.8125\n",
            "epochs:  43 loss:  785214.75\n",
            "epochs:  44 loss:  996471.9375\n",
            "epochs:  45 loss:  1264566.5\n",
            "epochs:  46 loss:  1604792.0\n",
            "epochs:  47 loss:  2036556.0\n",
            "epochs:  48 loss:  2584481.0\n",
            "epochs:  49 loss:  3279824.0\n",
            "epochs:  50 loss:  4162246.75\n",
            "epochs:  51 loss:  5282088.5\n",
            "epochs:  52 loss:  6703213.5\n",
            "epochs:  53 loss:  8506688.0\n",
            "epochs:  54 loss:  10795374.0\n",
            "epochs:  55 loss:  13699821.0\n",
            "epochs:  56 loss:  17385708.0\n",
            "epochs:  57 loss:  22063250.0\n",
            "epochs:  58 loss:  27999276.0\n",
            "epochs:  59 loss:  35532392.0\n",
            "epochs:  60 loss:  45092212.0\n",
            "epochs:  61 loss:  57224088.0\n",
            "epochs:  62 loss:  72619968.0\n",
            "epochs:  63 loss:  92158072.0\n",
            "epochs:  64 loss:  116953016.0\n",
            "epochs:  65 loss:  148418768.0\n",
            "epochs:  66 loss:  188350272.0\n",
            "epochs:  67 loss:  239025296.0\n",
            "epochs:  68 loss:  303334080.0\n",
            "epochs:  69 loss:  384944512.0\n",
            "epochs:  70 loss:  488512384.0\n",
            "epochs:  71 loss:  619944960.0\n",
            "epochs:  72 loss:  786738688.0\n",
            "epochs:  73 loss:  998407872.0\n",
            "epochs:  74 loss:  1267026304.0\n",
            "epochs:  75 loss:  1607915904.0\n",
            "epochs:  76 loss:  2040521088.0\n",
            "epochs:  77 loss:  2589515264.0\n",
            "epochs:  78 loss:  3286214656.0\n",
            "epochs:  79 loss:  4170361088.0\n",
            "epochs:  80 loss:  5292374528.0\n",
            "epochs:  81 loss:  6716269568.0\n",
            "epochs:  82 loss:  8523257856.0\n",
            "epochs:  83 loss:  10816404480.0\n",
            "epochs:  84 loss:  13726521344.0\n",
            "epochs:  85 loss:  17419589632.0\n",
            "epochs:  86 loss:  22106257408.0\n",
            "epochs:  87 loss:  28053874688.0\n",
            "epochs:  88 loss:  35601612800.0\n",
            "epochs:  89 loss:  45180104704.0\n",
            "epochs:  90 loss:  57335615488.0\n",
            "epochs:  91 loss:  72761581568.0\n",
            "epochs:  92 loss:  92337823744.0\n",
            "epochs:  93 loss:  117180891136.0\n",
            "epochs:  94 loss:  148707835904.0\n",
            "epochs:  95 loss:  188717187072.0\n",
            "epochs:  96 loss:  239490924544.0\n",
            "epochs:  97 loss:  303925133312.0\n",
            "epochs:  98 loss:  385695023104.0\n",
            "epochs:  99 loss:  489465085952.0\n"
          ],
          "name": "stdout"
        }
      ]
    },
    {
      "cell_type": "code",
      "metadata": {
        "id": "d_jYs4wd9H_G",
        "colab_type": "code",
        "colab": {}
      },
      "source": [
        ""
      ],
      "execution_count": 0,
      "outputs": []
    },
    {
      "cell_type": "code",
      "metadata": {
        "id": "7FWjW9Ro9iMz",
        "colab_type": "code",
        "colab": {
          "base_uri": "https://localhost:8080/",
          "height": 293
        },
        "outputId": "1d85eb2f-7d92-48f4-c55d-716c303f5c78"
      },
      "source": [
        "plt.plot(range(epochs),losses)"
      ],
      "execution_count": 21,
      "outputs": [
        {
          "output_type": "execute_result",
          "data": {
            "text/plain": [
              "[<matplotlib.lines.Line2D at 0x7fc6d2a4d400>]"
            ]
          },
          "metadata": {
            "tags": []
          },
          "execution_count": 21
        },
        {
          "output_type": "display_data",
          "data": {
            "image/png": "[encoded data removed]",
            "text/plain": [
              "<Figure size 432x288 with 1 Axes>"
            ]
          },
          "metadata": {
            "tags": []
          }
        }
      ]
    },
    {
      "cell_type": "code",
      "metadata": {
        "id": "C05_Okw-AW8n",
        "colab_type": "code",
        "colab": {}
      },
      "source": [
        ""
      ],
      "execution_count": 0,
      "outputs": []
    }
  ]
}