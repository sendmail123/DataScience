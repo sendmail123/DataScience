{
  "nbformat": 4,
  "nbformat_minor": 0,
  "metadata": {
    "colab": {
      "name": "ANN1.ipynb",
      "provenance": [],
      "collapsed_sections": [],
      "include_colab_link": true
    },
    "kernelspec": {
      "name": "python3",
      "display_name": "Python 3"
    }
  },
  "cells": [
    {
      "cell_type": "markdown",
      "metadata": {
        "id": "view-in-github",
        "colab_type": "text"
      },
      "source": [
        "<a href=\"https://colab.research.google.com/github/sendmail123/DataScience/blob/master/ANN1.ipynb\" target=\"_parent\"><img src=\"https://colab.research.google.com/assets/colab-badge.svg\" alt=\"Open In Colab\"/></a>"
      ]
    },
    {
      "cell_type": "code",
      "metadata": {
        "id": "YbTtr4KtpjtO",
        "colab_type": "code",
        "colab": {}
      },
      "source": [
        "import numpy as np\n",
        "import matplotlib.pyplot as plt\n",
        "import pandas as pd"
      ],
      "execution_count": 0,
      "outputs": []
    },
    {
      "cell_type": "code",
      "metadata": {
        "id": "zrfbKmtQpq0H",
        "colab_type": "code",
        "colab": {
          "resources": {
            "http://localhost:8080/nbextensions/google.colab/files.js": {
              "data": "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",
              "ok": true,
              "headers": [
                [
                  "content-type",
                  "application/javascript"
                ]
              ],
              "status": 200,
              "status_text": "OK"
            }
          },
          "base_uri": "https://localhost:8080/",
          "height": 72
        },
        "outputId": "dd458ca5-35ee-4b97-8abf-b07b3f6fcf11"
      },
      "source": [
        "from google.colab import files\n",
        "file = files.upload()"
      ],
      "execution_count": 5,
      "outputs": [
        {
          "output_type": "display_data",
          "data": {
            "text/html": [
              "\n",
              "     <input type=\"file\" id=\"files-dceb7552-f949-4179-8cbf-20d20b5da534\" name=\"files[]\" multiple disabled />\n",
              "     <output id=\"result-dceb7552-f949-4179-8cbf-20d20b5da534\">\n",
              "      Upload widget is only available when the cell has been executed in the\n",
              "      current browser session. Please rerun this cell to enable.\n",
              "      </output>\n",
              "      <script src=\"/nbextensions/google.colab/files.js\"></script> "
            ],
            "text/plain": [
              "<IPython.core.display.HTML object>"
            ]
          },
          "metadata": {
            "tags": []
          }
        },
        {
          "output_type": "stream",
          "text": [
            "Saving Churn_Modelling.csv to Churn_Modelling.csv\n"
          ],
          "name": "stdout"
        }
      ]
    },
    {
      "cell_type": "code",
      "metadata": {
        "id": "0rliaXJ3qFPh",
        "colab_type": "code",
        "colab": {}
      },
      "source": [
        "dataset = pd.read_csv('Churn_Modelling.csv')\n",
        "X = dataset.iloc[:, 3:13].values\n",
        "y = dataset.iloc[:, 13].values"
      ],
      "execution_count": 0,
      "outputs": []
    },
    {
      "cell_type": "code",
      "metadata": {
        "id": "98GwBiv8qMUs",
        "colab_type": "code",
        "colab": {
          "base_uri": "https://localhost:8080/",
          "height": 141
        },
        "outputId": "a7caad3f-51e7-43e9-c7f3-2e6aa615d75c"
      },
      "source": [
        "from sklearn.preprocessing import LabelEncoder, OneHotEncoder\n",
        "labelencoder_X_1 = LabelEncoder()\n",
        "X[:, 1] = labelencoder_X_1.fit_transform(X[:, 1])\n",
        "\n",
        "labelencoder_X_2 = LabelEncoder()\n",
        "X[:, 2] = labelencoder_X_2.fit_transform(X[:, 2])\n",
        "\n",
        "onehotencoder = OneHotEncoder(categorical_features = [1])\n",
        "X = onehotencoder.fit_transform(X).toarray()\n",
        "X = X[:,1:]"
      ],
      "execution_count": 7,
      "outputs": [
        {
          "output_type": "stream",
          "text": [
            "/usr/local/lib/python3.6/dist-packages/sklearn/preprocessing/_encoders.py:415: FutureWarning: The handling of integer data will change in version 0.22. Currently, the categories are determined based on the range [0, max(values)], while in the future they will be determined based on the unique values.\n",
            "If you want the future behaviour and silence this warning, you can specify \"categories='auto'\".\n",
            "In case you used a LabelEncoder before this OneHotEncoder to convert the categories to integers, then you can now use the OneHotEncoder directly.\n",
            "  warnings.warn(msg, FutureWarning)\n",
            "/usr/local/lib/python3.6/dist-packages/sklearn/preprocessing/_encoders.py:451: DeprecationWarning: The 'categorical_features' keyword is deprecated in version 0.20 and will be removed in 0.22. You can use the ColumnTransformer instead.\n",
            "  \"use the ColumnTransformer instead.\", DeprecationWarning)\n"
          ],
          "name": "stderr"
        }
      ]
    },
    {
      "cell_type": "code",
      "metadata": {
        "id": "0baocL7yqUCm",
        "colab_type": "code",
        "colab": {}
      },
      "source": [
        "from sklearn.model_selection import train_test_split\n",
        "X_train, X_test, y_train, y_test = train_test_split(X, y, test_size = 0.2, random_state = 0)\n",
        "\n",
        "# Feature Scaling\n",
        "from sklearn.preprocessing import StandardScaler\n",
        "sc = StandardScaler()\n",
        "X_train = sc.fit_transform(X_train)\n",
        "X_test = sc.transform(X_test)"
      ],
      "execution_count": 0,
      "outputs": []
    },
    {
      "cell_type": "code",
      "metadata": {
        "id": "zwiN_Y-SqYX7",
        "colab_type": "code",
        "colab": {}
      },
      "source": [
        "from tensorflow.python.keras.layers import Dense\n",
        "from tensorflow.python.keras import Sequential\n",
        "from tensorflow.python.keras.layers import Dropout"
      ],
      "execution_count": 0,
      "outputs": []
    },
    {
      "cell_type": "code",
      "metadata": {
        "id": "1KAvcEAZqpod",
        "colab_type": "code",
        "colab": {}
      },
      "source": [
        "classifier = Sequential()"
      ],
      "execution_count": 0,
      "outputs": []
    },
    {
      "cell_type": "code",
      "metadata": {
        "id": "_KydgSHyq4MP",
        "colab_type": "code",
        "colab": {}
      },
      "source": [
        "classifier.add(Dense(units=6,activation='relu', input_dim=11))\n",
        "classifier.add(Dropout(rate=0.1))"
      ],
      "execution_count": 0,
      "outputs": []
    },
    {
      "cell_type": "code",
      "metadata": {
        "id": "RNBnWDZG1IAb",
        "colab_type": "code",
        "colab": {}
      },
      "source": [
        "classifier.add(Dense(units=6,activation='relu'))\n",
        "classifier.add(Dropout(rate=0.1))"
      ],
      "execution_count": 0,
      "outputs": []
    },
    {
      "cell_type": "code",
      "metadata": {
        "id": "b17lFHQd10u1",
        "colab_type": "code",
        "colab": {}
      },
      "source": [
        "classifier.add(Dense(units=1,activation='sigmoid'))"
      ],
      "execution_count": 0,
      "outputs": []
    },
    {
      "cell_type": "code",
      "metadata": {
        "id": "bJTyCeFv2Mpk",
        "colab_type": "code",
        "colab": {}
      },
      "source": [
        "classifier.compile(optimizer='adam',loss= 'binary_crossentropy',metrics=['accuracy'])"
      ],
      "execution_count": 0,
      "outputs": []
    },
    {
      "cell_type": "code",
      "metadata": {
        "id": "ne-8dO956V8p",
        "colab_type": "code",
        "colab": {
          "base_uri": "https://localhost:8080/",
          "height": 1000
        },
        "outputId": "4f6524f1-6847-43c9-cf2b-29a36b2c6498"
      },
      "source": [
        "classifier.fit(X_train,y_train,batch_size=10,epochs=100)"
      ],
      "execution_count": 39,
      "outputs": [
        {
          "output_type": "stream",
          "text": [
            "Train on 8000 samples\n",
            "Epoch 1/100\n",
            "8000/8000 [==============================] - 1s 155us/sample - loss: 0.4974 - acc: 0.7897\n",
            "Epoch 2/100\n",
            "8000/8000 [==============================] - 1s 138us/sample - loss: 0.4435 - acc: 0.8090\n",
            "Epoch 3/100\n",
            "8000/8000 [==============================] - 1s 138us/sample - loss: 0.4277 - acc: 0.8131\n",
            "Epoch 4/100\n",
            "8000/8000 [==============================] - 1s 131us/sample - loss: 0.4167 - acc: 0.8217\n",
            "Epoch 5/100\n",
            "8000/8000 [==============================] - 1s 133us/sample - loss: 0.4103 - acc: 0.8204\n",
            "Epoch 6/100\n",
            "8000/8000 [==============================] - 1s 135us/sample - loss: 0.4054 - acc: 0.8220\n",
            "Epoch 7/100\n",
            "8000/8000 [==============================] - 1s 134us/sample - loss: 0.3993 - acc: 0.8267\n",
            "Epoch 8/100\n",
            "8000/8000 [==============================] - 1s 136us/sample - loss: 0.3927 - acc: 0.8270\n",
            "Epoch 9/100\n",
            "8000/8000 [==============================] - 1s 136us/sample - loss: 0.3873 - acc: 0.8349\n",
            "Epoch 10/100\n",
            "8000/8000 [==============================] - 1s 132us/sample - loss: 0.3847 - acc: 0.8415\n",
            "Epoch 11/100\n",
            "8000/8000 [==============================] - 1s 138us/sample - loss: 0.3794 - acc: 0.8400\n",
            "Epoch 12/100\n",
            "8000/8000 [==============================] - 1s 135us/sample - loss: 0.3779 - acc: 0.8426\n",
            "Epoch 13/100\n",
            "8000/8000 [==============================] - 1s 132us/sample - loss: 0.3745 - acc: 0.8436\n",
            "Epoch 14/100\n",
            "8000/8000 [==============================] - 1s 131us/sample - loss: 0.3736 - acc: 0.8485\n",
            "Epoch 15/100\n",
            "8000/8000 [==============================] - 1s 132us/sample - loss: 0.3699 - acc: 0.8472\n",
            "Epoch 16/100\n",
            "8000/8000 [==============================] - 1s 133us/sample - loss: 0.3678 - acc: 0.8486\n",
            "Epoch 17/100\n",
            "8000/8000 [==============================] - 1s 135us/sample - loss: 0.3646 - acc: 0.8504\n",
            "Epoch 18/100\n",
            "8000/8000 [==============================] - 1s 132us/sample - loss: 0.3664 - acc: 0.8508\n",
            "Epoch 19/100\n",
            "8000/8000 [==============================] - 1s 132us/sample - loss: 0.3657 - acc: 0.8486\n",
            "Epoch 20/100\n",
            "8000/8000 [==============================] - 1s 134us/sample - loss: 0.3602 - acc: 0.8524\n",
            "Epoch 21/100\n",
            "8000/8000 [==============================] - 1s 138us/sample - loss: 0.3632 - acc: 0.8500\n",
            "Epoch 22/100\n",
            "8000/8000 [==============================] - 1s 137us/sample - loss: 0.3579 - acc: 0.8516\n",
            "Epoch 23/100\n",
            "8000/8000 [==============================] - 1s 135us/sample - loss: 0.3573 - acc: 0.8556\n",
            "Epoch 24/100\n",
            "8000/8000 [==============================] - 1s 137us/sample - loss: 0.3618 - acc: 0.8522\n",
            "Epoch 25/100\n",
            "8000/8000 [==============================] - 1s 137us/sample - loss: 0.3586 - acc: 0.8504\n",
            "Epoch 26/100\n",
            "8000/8000 [==============================] - 1s 137us/sample - loss: 0.3601 - acc: 0.8503\n",
            "Epoch 27/100\n",
            "8000/8000 [==============================] - 1s 137us/sample - loss: 0.3593 - acc: 0.8511\n",
            "Epoch 28/100\n",
            "8000/8000 [==============================] - 1s 135us/sample - loss: 0.3585 - acc: 0.8529\n",
            "Epoch 29/100\n",
            "8000/8000 [==============================] - 1s 133us/sample - loss: 0.3598 - acc: 0.8549\n",
            "Epoch 30/100\n",
            "8000/8000 [==============================] - 1s 136us/sample - loss: 0.3567 - acc: 0.8544\n",
            "Epoch 31/100\n",
            "8000/8000 [==============================] - 1s 135us/sample - loss: 0.3577 - acc: 0.8535\n",
            "Epoch 32/100\n",
            "8000/8000 [==============================] - 1s 129us/sample - loss: 0.3566 - acc: 0.8524\n",
            "Epoch 33/100\n",
            "8000/8000 [==============================] - 1s 135us/sample - loss: 0.3563 - acc: 0.8554\n",
            "Epoch 34/100\n",
            "8000/8000 [==============================] - 1s 136us/sample - loss: 0.3552 - acc: 0.8545\n",
            "Epoch 35/100\n",
            "8000/8000 [==============================] - 1s 140us/sample - loss: 0.3560 - acc: 0.8543\n",
            "Epoch 36/100\n",
            "8000/8000 [==============================] - 1s 141us/sample - loss: 0.3529 - acc: 0.8535\n",
            "Epoch 37/100\n",
            "8000/8000 [==============================] - 1s 136us/sample - loss: 0.3552 - acc: 0.8555\n",
            "Epoch 38/100\n",
            "8000/8000 [==============================] - 1s 138us/sample - loss: 0.3537 - acc: 0.8550\n",
            "Epoch 39/100\n",
            "8000/8000 [==============================] - 1s 137us/sample - loss: 0.3526 - acc: 0.8566\n",
            "Epoch 40/100\n",
            "8000/8000 [==============================] - 1s 138us/sample - loss: 0.3517 - acc: 0.8572\n",
            "Epoch 41/100\n",
            "8000/8000 [==============================] - 1s 137us/sample - loss: 0.3522 - acc: 0.8597\n",
            "Epoch 42/100\n",
            "8000/8000 [==============================] - 1s 136us/sample - loss: 0.3584 - acc: 0.8525\n",
            "Epoch 43/100\n",
            "8000/8000 [==============================] - 1s 135us/sample - loss: 0.3532 - acc: 0.8564\n",
            "Epoch 44/100\n",
            "8000/8000 [==============================] - 1s 132us/sample - loss: 0.3519 - acc: 0.8555\n",
            "Epoch 45/100\n",
            "8000/8000 [==============================] - 1s 137us/sample - loss: 0.3565 - acc: 0.8556\n",
            "Epoch 46/100\n",
            "8000/8000 [==============================] - 1s 136us/sample - loss: 0.3527 - acc: 0.8540\n",
            "Epoch 47/100\n",
            "8000/8000 [==============================] - 1s 143us/sample - loss: 0.3533 - acc: 0.8555\n",
            "Epoch 48/100\n",
            "8000/8000 [==============================] - 1s 141us/sample - loss: 0.3548 - acc: 0.8541\n",
            "Epoch 49/100\n",
            "8000/8000 [==============================] - 1s 135us/sample - loss: 0.3550 - acc: 0.8547\n",
            "Epoch 50/100\n",
            "8000/8000 [==============================] - 1s 137us/sample - loss: 0.3554 - acc: 0.8546\n",
            "Epoch 51/100\n",
            "8000/8000 [==============================] - 1s 138us/sample - loss: 0.3527 - acc: 0.8560\n",
            "Epoch 52/100\n",
            "8000/8000 [==============================] - 1s 135us/sample - loss: 0.3513 - acc: 0.8581\n",
            "Epoch 53/100\n",
            "8000/8000 [==============================] - 1s 137us/sample - loss: 0.3528 - acc: 0.8554\n",
            "Epoch 54/100\n",
            "8000/8000 [==============================] - 1s 141us/sample - loss: 0.3523 - acc: 0.8583\n",
            "Epoch 55/100\n",
            "8000/8000 [==============================] - 1s 142us/sample - loss: 0.3508 - acc: 0.8566\n",
            "Epoch 56/100\n",
            "8000/8000 [==============================] - 1s 141us/sample - loss: 0.3508 - acc: 0.8559\n",
            "Epoch 57/100\n",
            "8000/8000 [==============================] - 1s 138us/sample - loss: 0.3503 - acc: 0.8556\n",
            "Epoch 58/100\n",
            "8000/8000 [==============================] - 1s 139us/sample - loss: 0.3536 - acc: 0.8551\n",
            "Epoch 59/100\n",
            "8000/8000 [==============================] - 1s 141us/sample - loss: 0.3521 - acc: 0.8551\n",
            "Epoch 60/100\n",
            "8000/8000 [==============================] - 1s 139us/sample - loss: 0.3522 - acc: 0.8525\n",
            "Epoch 61/100\n",
            "8000/8000 [==============================] - 1s 129us/sample - loss: 0.3487 - acc: 0.8566\n",
            "Epoch 62/100\n",
            "8000/8000 [==============================] - 1s 135us/sample - loss: 0.3514 - acc: 0.8569\n",
            "Epoch 63/100\n",
            "8000/8000 [==============================] - 1s 142us/sample - loss: 0.3504 - acc: 0.8490\n",
            "Epoch 64/100\n",
            "8000/8000 [==============================] - 1s 135us/sample - loss: 0.3548 - acc: 0.8526\n",
            "Epoch 65/100\n",
            "8000/8000 [==============================] - 1s 135us/sample - loss: 0.3538 - acc: 0.8528\n",
            "Epoch 66/100\n",
            "8000/8000 [==============================] - 1s 139us/sample - loss: 0.3522 - acc: 0.8531\n",
            "Epoch 67/100\n",
            "8000/8000 [==============================] - 1s 137us/sample - loss: 0.3510 - acc: 0.8556\n",
            "Epoch 68/100\n",
            "8000/8000 [==============================] - 1s 136us/sample - loss: 0.3490 - acc: 0.8574\n",
            "Epoch 69/100\n",
            "8000/8000 [==============================] - 1s 135us/sample - loss: 0.3503 - acc: 0.8564\n",
            "Epoch 70/100\n",
            "8000/8000 [==============================] - 1s 136us/sample - loss: 0.3506 - acc: 0.8559\n",
            "Epoch 71/100\n",
            "8000/8000 [==============================] - 1s 142us/sample - loss: 0.3501 - acc: 0.8561\n",
            "Epoch 72/100\n",
            "8000/8000 [==============================] - 1s 136us/sample - loss: 0.3483 - acc: 0.8593\n",
            "Epoch 73/100\n",
            "8000/8000 [==============================] - 1s 137us/sample - loss: 0.3493 - acc: 0.8586\n",
            "Epoch 74/100\n",
            "8000/8000 [==============================] - 1s 139us/sample - loss: 0.3486 - acc: 0.8575\n",
            "Epoch 75/100\n",
            "8000/8000 [==============================] - 1s 139us/sample - loss: 0.3494 - acc: 0.8561\n",
            "Epoch 76/100\n",
            "8000/8000 [==============================] - 1s 142us/sample - loss: 0.3503 - acc: 0.8564\n",
            "Epoch 77/100\n",
            "8000/8000 [==============================] - 1s 139us/sample - loss: 0.3514 - acc: 0.8565\n",
            "Epoch 78/100\n",
            "8000/8000 [==============================] - 1s 129us/sample - loss: 0.3501 - acc: 0.8570\n",
            "Epoch 79/100\n",
            "8000/8000 [==============================] - 1s 137us/sample - loss: 0.3507 - acc: 0.8540\n",
            "Epoch 80/100\n",
            "8000/8000 [==============================] - 1s 133us/sample - loss: 0.3493 - acc: 0.8543\n",
            "Epoch 81/100\n",
            "8000/8000 [==============================] - 1s 135us/sample - loss: 0.3496 - acc: 0.8559\n",
            "Epoch 82/100\n",
            "8000/8000 [==============================] - 1s 136us/sample - loss: 0.3506 - acc: 0.8558\n",
            "Epoch 83/100\n",
            "8000/8000 [==============================] - 1s 135us/sample - loss: 0.3500 - acc: 0.8541\n",
            "Epoch 84/100\n",
            "8000/8000 [==============================] - 1s 135us/sample - loss: 0.3465 - acc: 0.8576\n",
            "Epoch 85/100\n",
            "8000/8000 [==============================] - 1s 135us/sample - loss: 0.3478 - acc: 0.8575\n",
            "Epoch 86/100\n",
            "8000/8000 [==============================] - 1s 135us/sample - loss: 0.3476 - acc: 0.8587\n",
            "Epoch 87/100\n",
            "8000/8000 [==============================] - 1s 133us/sample - loss: 0.3519 - acc: 0.8549\n",
            "Epoch 88/100\n",
            "8000/8000 [==============================] - 1s 131us/sample - loss: 0.3491 - acc: 0.8562\n",
            "Epoch 89/100\n",
            "8000/8000 [==============================] - 1s 124us/sample - loss: 0.3500 - acc: 0.8544\n",
            "Epoch 90/100\n",
            "8000/8000 [==============================] - 1s 126us/sample - loss: 0.3466 - acc: 0.8576\n",
            "Epoch 91/100\n",
            "8000/8000 [==============================] - 1s 129us/sample - loss: 0.3472 - acc: 0.8583\n",
            "Epoch 92/100\n",
            "8000/8000 [==============================] - 1s 135us/sample - loss: 0.3452 - acc: 0.8576\n",
            "Epoch 93/100\n",
            "8000/8000 [==============================] - 1s 135us/sample - loss: 0.3459 - acc: 0.8585\n",
            "Epoch 94/100\n",
            "8000/8000 [==============================] - 1s 130us/sample - loss: 0.3467 - acc: 0.8544\n",
            "Epoch 95/100\n",
            "8000/8000 [==============================] - 1s 134us/sample - loss: 0.3473 - acc: 0.8566\n",
            "Epoch 96/100\n",
            "8000/8000 [==============================] - 1s 136us/sample - loss: 0.3483 - acc: 0.8545\n",
            "Epoch 97/100\n",
            "8000/8000 [==============================] - 1s 125us/sample - loss: 0.3439 - acc: 0.8571\n",
            "Epoch 98/100\n",
            "8000/8000 [==============================] - 1s 122us/sample - loss: 0.3440 - acc: 0.8562\n",
            "Epoch 99/100\n",
            "8000/8000 [==============================] - 1s 126us/sample - loss: 0.3471 - acc: 0.8583\n",
            "Epoch 100/100\n",
            "8000/8000 [==============================] - 1s 135us/sample - loss: 0.3445 - acc: 0.8590\n"
          ],
          "name": "stdout"
        },
        {
          "output_type": "execute_result",
          "data": {
            "text/plain": [
              "<tensorflow.python.keras.callbacks.History at 0x7f543ea11be0>"
            ]
          },
          "metadata": {
            "tags": []
          },
          "execution_count": 39
        }
      ]
    },
    {
      "cell_type": "code",
      "metadata": {
        "id": "GdW-y3k6c_j-",
        "colab_type": "code",
        "colab": {}
      },
      "source": [
        "y_pred = classifier.predict(X_test)\n",
        "y_pred = [ 1 if y>=0.5 else 0 for y in y_pred ]"
      ],
      "execution_count": 0,
      "outputs": []
    },
    {
      "cell_type": "code",
      "metadata": {
        "id": "ZNJwSpZPeNUR",
        "colab_type": "code",
        "colab": {}
      },
      "source": [
        "from sklearn.metrics import confusion_matrix\n",
        "cm=confusion_matrix(y_test,y_pred)"
      ],
      "execution_count": 0,
      "outputs": []
    },
    {
      "cell_type": "code",
      "metadata": {
        "id": "soeECf6KepTW",
        "colab_type": "code",
        "colab": {
          "base_uri": "https://localhost:8080/",
          "height": 52
        },
        "outputId": "78c9f8be-e2f2-4832-cc55-4ff8e6e78e90"
      },
      "source": [
        "print(cm)"
      ],
      "execution_count": 20,
      "outputs": [
        {
          "output_type": "stream",
          "text": [
            "[[1511   84]\n",
            " [ 194  211]]\n"
          ],
          "name": "stdout"
        }
      ]
    },
    {
      "cell_type": "code",
      "metadata": {
        "id": "orbgzySzn-ed",
        "colab_type": "code",
        "colab": {}
      },
      "source": [
        "from tensorflow.python.keras.wrappers.scikit_learn import KerasClassifier"
      ],
      "execution_count": 0,
      "outputs": []
    },
    {
      "cell_type": "code",
      "metadata": {
        "id": "JSF1thTVoZqt",
        "colab_type": "code",
        "colab": {}
      },
      "source": [
        "from sklearn.model_selection import cross_val_score"
      ],
      "execution_count": 0,
      "outputs": []
    },
    {
      "cell_type": "code",
      "metadata": {
        "id": "E70Y25Weoq5S",
        "colab_type": "code",
        "colab": {}
      },
      "source": [
        "def build_classifier():\n",
        "    classifier = Sequential()\n",
        "    classifier.add(Dense(units=6,activation='relu', input_dim=11))\n",
        "    classifier.add(Dense(units=6,activation='relu'))\n",
        "    classifier.add(Dense(units=1,activation='sigmoid'))\n",
        "    classifier.compile(optimizer='adam',loss= 'binary_crossentropy',metrics=['accuracy'])\n",
        "    return classifier"
      ],
      "execution_count": 0,
      "outputs": []
    },
    {
      "cell_type": "code",
      "metadata": {
        "id": "osk_e5XRqI5n",
        "colab_type": "code",
        "colab": {}
      },
      "source": [
        "classifier = KerasClassifier(build_fn=build_classifier, batch_size=10, epochs=100)\n",
        "accuracies = cross_val_score(estimator=classifier,X=X_train,y=y_train, cv=10, n_jobs=-1)"
      ],
      "execution_count": 0,
      "outputs": []
    },
    {
      "cell_type": "code",
      "metadata": {
        "id": "OUVcy9PQyqIF",
        "colab_type": "code",
        "colab": {
          "base_uri": "https://localhost:8080/",
          "height": 52
        },
        "outputId": "db712a33-f230-4cd1-85b6-93d9a91f9363"
      },
      "source": [
        "accuracies"
      ],
      "execution_count": 27,
      "outputs": [
        {
          "output_type": "execute_result",
          "data": {
            "text/plain": [
              "array([0.86500001, 0.85124999, 0.875     , 0.85750002, 0.8725    ,\n",
              "       0.85374999, 0.86250001, 0.85624999, 0.84125   , 0.86374998])"
            ]
          },
          "metadata": {
            "tags": []
          },
          "execution_count": 27
        }
      ]
    }
  ]
}